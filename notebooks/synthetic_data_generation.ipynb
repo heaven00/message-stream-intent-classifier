{
 "cells": [
  {
   "cell_type": "markdown",
   "id": "308b9baa-d27d-4975-9a21-4d52565baadb",
   "metadata": {},
   "source": [
    "### Generate chats between users with the following scenarios \n",
    "\n",
    "- Technical \n",
    "    - want to brainstorm approach\n",
    "    - facing issues with parts of the codebase that the team member has more context on\n",
    "    - brain scratching technical issues like database migration gone bad or unknown merge conflicts\n",
    "    - production hot fixes"
   ]
  },
  {
   "cell_type": "code",
   "execution_count": 25,
   "id": "1d25a494",
   "metadata": {},
   "outputs": [],
   "source": [
    "from ollama import chat\n",
    "from pydantic import BaseModel, Field"
   ]
  },
  {
   "cell_type": "code",
   "execution_count": null,
   "id": "00b46762",
   "metadata": {},
   "outputs": [],
   "source": [
    "class ChatMessage(BaseModel):\n",
    "    user: str\n",
    "    message: str\n",
    "\n",
    "class MessageStream(BaseModel):\n",
    "    messages: list[ChatMessage]\n",
    "\n",
    "\n",
    "purpose = \"ask for help to brainstorm for a made up technical problem.\"\n",
    "intent = \"setup a quick sync up call\"\n",
    "\n",
    "def generate_chat(purpose, intent, model=\"qwen2.5-coder:32b\", retries_left=3):\n",
    "    prompt = f\"\"\"\n",
    "    I need your help to generate dummpy data for a demo.\n",
    "    create a sequence of messages similar to a chat in an IRC channel with multiple users where,\n",
    "\n",
    "    the user wants to {intent} with the purpose of {purpose}.\n",
    "    \n",
    "    \n",
    "    1. pick the number of users and their usernames in the conversation\n",
    "    2. generate replies with other users participating to help in response to continue the chat for 3-4 messages or more\n",
    "     \n",
    "    Example of what an IIRC conversation might look like: \n",
    "\n",
    "    hstefan \they e_t_, been wrestling with some virtualbox resolution issues\n",
    "    e_t_ \thstefan: yeah? want to jump on a call and troubleshoot together?\n",
    "    flavio \tI could join if you’re doing a screen share debugging session\n",
    "    hstefan \tthat sounds great - google meet or discord?\n",
    "    e_t_ \tdiscord works for me. how about this evening around 8?\n",
    "    flavio \t+1 for discord, 8pm UTC?\n",
    "    hstefan \tworks for me. I’ll send the invite link\n",
    "    e_t_ \tcool, see you all then\n",
    "\n",
    "    DO NOT use the same conversation as the example, we need variety.\n",
    "    \"\"\"\n",
    "    if retries_left == 0:\n",
    "        raise ValueError(\"Failed to generate chat after retries\")\n",
    "    response = chat(\n",
    "        messages = [\n",
    "            {'role': 'user', 'content': prompt},\n",
    "        ],\n",
    "        model=model,\n",
    "        format=MessageStream.model_json_schema()\n",
    "    )\n",
    "    try:\n",
    "        return MessageStream.model_validate_json(response.message.content)\n",
    "    except Exception as e:\n",
    "        print(f\"Error generating response: {e}, for purpose: {purpose}\")\n",
    "        return generate_chat(prompt, retries_left - 1)\n"
   ]
  },
  {
   "cell_type": "code",
   "execution_count": 50,
   "id": "d2045556",
   "metadata": {},
   "outputs": [
    {
     "data": {
      "text/plain": [
       "MessageStream(messages=[ChatMessage(user='tech_lead', message='Hey team, been dealing with a pile of technical debt lately. Could we get an immediate call to discuss some strategies?', calendar_event=False), ChatMessage(user='dev1', message='Absolutely! What platform are you thinking for the call?', calendar_event=False), ChatMessage(user='tech_lead', message='Zoom works fine with me. How about right now, if everyone is free?', calendar_event=True), ChatMessage(user='dev2', message='+1 for Zoom and immediately sounds good to me.', calendar_event=False), ChatMessage(user='qa_engineer', message='Sure, I’m in. Let’s do this now!', calendar_event=False)])"
      ]
     },
     "execution_count": 50,
     "metadata": {},
     "output_type": "execute_result"
    }
   ],
   "source": [
    "generate_chat(\"discussing technical debt\", \"request for an immediate call\")"
   ]
  },
  {
   "cell_type": "code",
   "execution_count": 51,
   "id": "f3576921",
   "metadata": {},
   "outputs": [
    {
     "data": {
      "text/plain": [
       "MessageStream(messages=[ChatMessage(user='e_', message=\"Hey everyone, I think we need to address our technical debt. It's piling up and causing some serious issues in our project.\", calendar_event=False), ChatMessage(user='hstefan', message='Agreed, e_. The UI is getting really laggy because of it.', calendar_event=False), ChatMessage(user='e_', message=\"Alright, I want to set up a call right away. Let's discuss how we can tackle this. Who's available?\", calendar_event=True), ChatMessage(user='flavio', message=\"I'm free now. Let's jump on it.\", calendar_event=False), ChatMessage(user='hstefan', message='I can join in 15 minutes. How about we start then?', calendar_event=True), ChatMessage(user='e_', message=\"Great! Let's connect via Zoom. I'll send the link shortly.\", calendar_event=False)])"
      ]
     },
     "execution_count": 51,
     "metadata": {},
     "output_type": "execute_result"
    }
   ],
   "source": [
    "generate_chat(\"discussing technical debt\", \"request for an immediate call\", model=\"deepseek-r1:32b\")"
   ]
  },
  {
   "cell_type": "markdown",
   "id": "2cb00318",
   "metadata": {},
   "source": [
    "Assumptions: all of the messages generated here all lead to a calendar event, let's generate 10 chats per scenario this is not 100% true but for the assignment\n",
    "\n",
    "- Technical \n",
    "    - want to brainstorm approach\n",
    "    - facing issues with parts of the codebase that the team member has more context on\n",
    "    - brain scratching technical issues like database migration gone bad or unknown merge conflicts\n",
    "    - production hot fixes\n",
    "- Team operations proposal\n",
    "    - sprint plannng discussion\n",
    "    - feedback discussions (one-on-one)\n",
    "    - roadmap plannning\n",
    "- Client meeting proposal\n",
    "    - feedback on a presentation\n",
    "    - how to showcase particular edge cases being handled\n",
    "    - dry run of demos\n",
    "    - team lead proposes a meeting after a client call to discuss next steps"
   ]
  },
  {
   "cell_type": "code",
   "execution_count": 67,
   "id": "39f08d8f",
   "metadata": {},
   "outputs": [],
   "source": [
    "from itertools import product\n",
    "\n",
    "intents = [\n",
    "    \"get someone on a quick call to help out\",\n",
    "    \"plan a meeting\",\n",
    "    \"reschedule an existing meeting\"\n",
    "]\n",
    "\n",
    "purposes = [\n",
    "    \"brainstorm a system design\",\n",
    "    \"brainstorm on an issue you are stuck on\",\n",
    "    \"facing issues with parts of the codebase that the team member has more context on\",\n",
    "    \"brain scratching technical issues like database migration gone bad or unknown merge conflicts\", \n",
    "    \"production hot fixes\", \n",
    "    \"sprint plannng discussion\", \n",
    "    \"feedback discussions (one-on-one)\", \n",
    "    \"roadmap plannning\", \n",
    "    \"feedback on a presentation\", \n",
    "    \"how to showcase particular edge cases being handled for an update to the client\",\n",
    "    \"dry run of demos to showcase to the client\",\n",
    "    \"team lead proposes a meeting after a client call to discuss next steps\"\n",
    "]\n",
    "\n",
    "def generate_sample_chat_messages(purposes: list[str], intents: list[str], n: int):\n",
    "    for intent, purpose in product(intents, purposes):\n",
    "        for _ in range(n):\n",
    "            yield generate_chat(\n",
    "                    purpose=purpose,\n",
    "                    intent=intent,\n",
    "                    model=\"deepseek-r1:32b\"\n",
    "                )\n",
    "   "
   ]
  },
  {
   "cell_type": "code",
   "execution_count": 70,
   "id": "214d7031",
   "metadata": {},
   "outputs": [],
   "source": [
    "data = generate_sample_chat_messages(purposes[:1], intents[:1], 1)\n",
    "sample = data.__next__()"
   ]
  },
  {
   "cell_type": "code",
   "execution_count": 74,
   "id": "2e0fd665",
   "metadata": {},
   "outputs": [
    {
     "data": {
      "text/plain": [
       "'{\"messages\":[{\"user\":\"alice\",\"message\":\"Hey everyone, I\\'m stuck on this system design problem. Does anyone have a free moment to brainstorm with me?\"},{\"user\":\"bob\",\"message\":\"Sure, alice! What\\'s the problem about?\"},{\"user\":\"charlie\",\"message\":\"I can help too. Maybe we should set up a quick call for it.\"},{\"user\":\"alice\",\"message\":\"Great! How about joining via Zoom? I think that\\'s widely available.\"},{\"user\":\"bob\",\"message\":\"Zoom works for me. When are you thinking?\"},{\"user\":\"charlie\",\"message\":\"I\\'m free anytime after 3 PM today.\"},{\"user\":\"alice\",\"message\":\"Perfect! Let\\'s meet at 3:30 PM then. I\\'ll send the link shortly.\"}]}'"
      ]
     },
     "execution_count": 74,
     "metadata": {},
     "output_type": "execute_result"
    }
   ],
   "source": [
    "sample.model_dump_json()"
   ]
  },
  {
   "cell_type": "markdown",
   "id": "edd73822",
   "metadata": {},
   "source": [
    "The data is not accurate but the idea is that it generates enough bag of words that can represent calendar event sentences"
   ]
  },
  {
   "cell_type": "markdown",
   "id": "2648c3a2",
   "metadata": {},
   "source": []
  }
 ],
 "metadata": {
  "kernelspec": {
   "display_name": ".venv",
   "language": "python",
   "name": "python3"
  },
  "language_info": {
   "codemirror_mode": {
    "name": "ipython",
    "version": 3
   },
   "file_extension": ".py",
   "mimetype": "text/x-python",
   "name": "python",
   "nbconvert_exporter": "python",
   "pygments_lexer": "ipython3",
   "version": "3.11.11"
  }
 },
 "nbformat": 4,
 "nbformat_minor": 5
}
