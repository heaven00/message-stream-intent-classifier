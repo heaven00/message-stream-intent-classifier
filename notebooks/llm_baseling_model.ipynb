{
 "cells": [
  {
   "cell_type": "code",
   "execution_count": 35,
   "metadata": {},
   "outputs": [],
   "source": [
    "from datasets import Dataset, DatasetDict\n",
    "import pandas as pd"
   ]
  },
  {
   "cell_type": "code",
   "execution_count": 36,
   "metadata": {},
   "outputs": [],
   "source": [
    "datasets = DatasetDict({\n",
    "    'train': Dataset.from_pandas(pd.read_csv('../data/train.csv')),\n",
    "    'eval': Dataset.from_pandas(pd.read_csv('../data/eval.csv')),\n",
    "    'test': Dataset.from_pandas(pd.read_csv('../data/test.csv'))\n",
    "})"
   ]
  },
  {
   "cell_type": "markdown",
   "metadata": {},
   "source": [
    "A simple llm based classifier"
   ]
  },
  {
   "cell_type": "code",
   "execution_count": 52,
   "metadata": {},
   "outputs": [
    {
     "data": {
      "application/vnd.jupyter.widget-view+json": {
       "model_id": "f4cd3656e3dd4444bb4b8431578a7c2c",
       "version_major": 2,
       "version_minor": 0
      },
      "text/plain": [
       "Filter:   0%|          | 0/3924 [00:00<?, ? examples/s]"
      ]
     },
     "metadata": {},
     "output_type": "display_data"
    },
    {
     "data": {
      "application/vnd.jupyter.widget-view+json": {
       "model_id": "0ba9cea9cdf448b19e352e5fc67feb0e",
       "version_major": 2,
       "version_minor": 0
      },
      "text/plain": [
       "Filter:   0%|          | 0/3924 [00:00<?, ? examples/s]"
      ]
     },
     "metadata": {},
     "output_type": "display_data"
    }
   ],
   "source": [
    "from ollama import chat\n",
    "from pydantic import BaseModel, Field\n",
    "\n",
    "class Classification(BaseModel):\n",
    "    message: str = Field(description=\"The message to be classified\")\n",
    "    label: bool = Field(description=\"True if the message is calendar event related and False otherwise\")\n",
    "    reason: str = Field(description=\"The reason for classification\")\n",
    "\n",
    "\n",
    "sample_true = datasets['train'].filter(lambda x: x['calendar_event'] == True)['message'][:10]\n",
    "sample_false = datasets['train'].filter(lambda x: x['calendar_event'] == False)['message'][:10]\n",
    "\n",
    "\n",
    "def classify_message(msg: str, model: str) -> Classification:\n",
    "    prompt = f\"\"\"\n",
    "        You are an expert classifier. Your task is to decide whether a given message is related to calendar event or not \n",
    "        use labels: \"True\" if it is calendar event related and \"False\" if it is not. \n",
    "\n",
    "        Use the examples provided below as guidance.\n",
    "        True Examples:\n",
    "        {sample_true}\n",
    "\n",
    "        False Examples:\n",
    "        {sample_false}\n",
    "\n",
    "        Now, classify the following message:\n",
    "        messsage: {msg}\n",
    "    \"\"\"\n",
    "    response = chat(\n",
    "        messages = [\n",
    "            {'role': 'user', 'content': prompt},\n",
    "        ],\n",
    "        model=model,\n",
    "        format=Classification.model_json_schema(),\n",
    "        options={\n",
    "            'temperature': 0\n",
    "        }\n",
    "    )\n",
    "    return Classification.model_validate_json(response.message.content)\n"
   ]
  },
  {
   "cell_type": "code",
   "execution_count": 53,
   "metadata": {},
   "outputs": [
    {
     "data": {
      "text/plain": [
       "Classification(message=\"Let's get on a call\", label=True, reason='The message suggests scheduling a call, which is related to calendar events.')"
      ]
     },
     "execution_count": 53,
     "metadata": {},
     "output_type": "execute_result"
    }
   ],
   "source": [
    "classify_message(\"Let's get on a call\", \"llama3.1:latest\")"
   ]
  },
  {
   "cell_type": "code",
   "execution_count": 54,
   "metadata": {},
   "outputs": [],
   "source": [
    "import numpy as np\n",
    "from sklearn.metrics import accuracy_score, precision_score, recall_score, f1_score, confusion_matrix\n",
    "\n",
    "\n",
    "def compute_binary_classification_metrics(callable_func, dataset: Dataset) -> dict:\n",
    "    \"\"\"\n",
    "    Computes binary classification metrics for a given callable function and dataset.\n",
    "    \n",
    "    Args:\n",
    "        callable_func (callable): A function that takes a message and a model name as input and returns a Classification object.\n",
    "        dataset (Dataset): The evaluation dataset containing messages to be classified.\n",
    "        \n",
    "    Returns:\n",
    "        dict: A dictionary containing the computed metrics.\n",
    "    \"\"\"\n",
    "    predictions = []\n",
    "    \n",
    "    for message in dataset['message']:\n",
    "        response = callable_func(message)  # Replace 'your_model_name' with the actual model name\n",
    "        predictions.append(response.label)\n",
    "    \n",
    "    predictions = np.array(predictions)\n",
    "    true_labels = np.array(dataset['calendar_event'])\n",
    "    \n",
    "    accuracy = accuracy_score(true_labels, predictions)\n",
    "    precision = precision_score(true_labels, predictions, pos_label=True)\n",
    "    recall = recall_score(true_labels, predictions, pos_label=True)\n",
    "    f1 = f1_score(true_labels, predictions, pos_label=True)\n",
    "    conf_matrix = confusion_matrix(true_labels, predictions, labels=[True, False])\n",
    "    \n",
    "    metrics = {\n",
    "        'accuracy': accuracy,\n",
    "        'precision': precision,\n",
    "        'recall': recall,\n",
    "        'f1_score': f1,\n",
    "        'confusion_matrix': conf_matrix\n",
    "    }\n",
    "    \n",
    "    return metrics, predictions\n"
   ]
  },
  {
   "cell_type": "code",
   "execution_count": 55,
   "metadata": {},
   "outputs": [
    {
     "data": {
      "text/plain": [
       "{'accuracy': 0.7857142857142857,\n",
       " 'precision': 0.7758620689655172,\n",
       " 'recall': 0.8035714285714286,\n",
       " 'f1_score': 0.7894736842105263,\n",
       " 'confusion_matrix': array([[225,  55],\n",
       "        [ 65, 215]])}"
      ]
     },
     "execution_count": 55,
     "metadata": {},
     "output_type": "execute_result"
    }
   ],
   "source": [
    "from functools import partial\n",
    "\n",
    "llm_model = partial(classify_message, model='llama3.1:latest')\n",
    "\n",
    "\n",
    "metrics, predictions = compute_binary_classification_metrics(llm_model, datasets['eval'])\n",
    "metrics"
   ]
  },
  {
   "cell_type": "code",
   "execution_count": 46,
   "metadata": {},
   "outputs": [],
   "source": [
    "# is it consistent?\n",
    "# compute_binary_classification_metrics(llm_model, datasets['eval']) \n",
    "\n",
    "# {'accuracy': 0.7375,\n",
    "#  'precision': 0.726962457337884,\n",
    "#  'recall': 0.7607142857142857,\n",
    "#  'f1_score': 0.743455497382199,\n",
    "#  'confusion_matrix': array([[213,  67],\n",
    "#         [ 80, 200]])}"
   ]
  },
  {
   "cell_type": "code",
   "execution_count": 51,
   "metadata": {},
   "outputs": [
    {
     "data": {
      "text/html": [
       "<div>\n",
       "<style scoped>\n",
       "    .dataframe tbody tr th:only-of-type {\n",
       "        vertical-align: middle;\n",
       "    }\n",
       "\n",
       "    .dataframe tbody tr th {\n",
       "        vertical-align: top;\n",
       "    }\n",
       "\n",
       "    .dataframe thead th {\n",
       "        text-align: right;\n",
       "    }\n",
       "</style>\n",
       "<table border=\"1\" class=\"dataframe\">\n",
       "  <thead>\n",
       "    <tr style=\"text-align: right;\">\n",
       "      <th></th>\n",
       "      <th>filename</th>\n",
       "      <th>message</th>\n",
       "      <th>user</th>\n",
       "      <th>calendar_event</th>\n",
       "      <th>predictions</th>\n",
       "    </tr>\n",
       "  </thead>\n",
       "  <tbody>\n",
       "    <tr>\n",
       "      <th>65</th>\n",
       "      <td>chat_12.json</td>\n",
       "      <td>Hi alice! What's up?</td>\n",
       "      <td>bob</td>\n",
       "      <td>True</td>\n",
       "      <td>False</td>\n",
       "    </tr>\n",
       "    <tr>\n",
       "      <th>368</th>\n",
       "      <td>None</td>\n",
       "      <td>prolly not</td>\n",
       "      <td>geneo91</td>\n",
       "      <td>False</td>\n",
       "      <td>True</td>\n",
       "    </tr>\n",
       "    <tr>\n",
       "      <th>104</th>\n",
       "      <td>chat_90.json</td>\n",
       "      <td>hey there! anyone available for a quick help? ...</td>\n",
       "      <td>e_7</td>\n",
       "      <td>True</td>\n",
       "      <td>False</td>\n",
       "    </tr>\n",
       "    <tr>\n",
       "      <th>364</th>\n",
       "      <td>None</td>\n",
       "      <td>?</td>\n",
       "      <td>edgarin</td>\n",
       "      <td>False</td>\n",
       "      <td>True</td>\n",
       "    </tr>\n",
       "    <tr>\n",
       "      <th>445</th>\n",
       "      <td>None</td>\n",
       "      <td>hehe</td>\n",
       "      <td>geneo91</td>\n",
       "      <td>False</td>\n",
       "      <td>True</td>\n",
       "    </tr>\n",
       "    <tr>\n",
       "      <th>293</th>\n",
       "      <td>None</td>\n",
       "      <td>LOL</td>\n",
       "      <td>drspin</td>\n",
       "      <td>False</td>\n",
       "      <td>True</td>\n",
       "    </tr>\n",
       "    <tr>\n",
       "      <th>193</th>\n",
       "      <td>chat_101.json</td>\n",
       "      <td>also, make sure your database user has the rig...</td>\n",
       "      <td>sarahconnor</td>\n",
       "      <td>True</td>\n",
       "      <td>False</td>\n",
       "    </tr>\n",
       "    <tr>\n",
       "      <th>516</th>\n",
       "      <td>None</td>\n",
       "      <td>Orbo:  that's gzip, not bzip</td>\n",
       "      <td>eyequeue</td>\n",
       "      <td>False</td>\n",
       "      <td>True</td>\n",
       "    </tr>\n",
       "    <tr>\n",
       "      <th>559</th>\n",
       "      <td>None</td>\n",
       "      <td>terminal is better</td>\n",
       "      <td>Adrenal</td>\n",
       "      <td>False</td>\n",
       "      <td>True</td>\n",
       "    </tr>\n",
       "    <tr>\n",
       "      <th>304</th>\n",
       "      <td>None</td>\n",
       "      <td>oh</td>\n",
       "      <td>jdub</td>\n",
       "      <td>False</td>\n",
       "      <td>True</td>\n",
       "    </tr>\n",
       "  </tbody>\n",
       "</table>\n",
       "</div>"
      ],
      "text/plain": [
       "          filename  ... predictions\n",
       "65    chat_12.json  ...       False\n",
       "368           None  ...        True\n",
       "104   chat_90.json  ...       False\n",
       "364           None  ...        True\n",
       "445           None  ...        True\n",
       "293           None  ...        True\n",
       "193  chat_101.json  ...       False\n",
       "516           None  ...        True\n",
       "559           None  ...        True\n",
       "304           None  ...        True\n",
       "\n",
       "[10 rows x 5 columns]"
      ]
     },
     "execution_count": 51,
     "metadata": {},
     "output_type": "execute_result"
    }
   ],
   "source": [
    "def unmatched_predictions(predictions, dataset):\n",
    "    data = dataset.to_pandas()\n",
    "    data['predictions'] = predictions\n",
    "    return data[data['predictions'] != data['calendar_event']]    \n",
    "\n",
    "unmatched_predictions(predictions, datasets['eval']).sample(10)"
   ]
  },
  {
   "cell_type": "markdown",
   "metadata": {},
   "source": [
    "It's slow takes (2min for a single run on the eval set) without reasoning \n",
    "\n",
    "metrics:\n",
    "```json\n",
    "    {'accuracy': 0.7375,\n",
    "     'precision': 0.726962457337884,\n",
    "    'recall': 0.7607142857142857,\n",
    "    'f1_score': 0.743455497382199,\n",
    "    'confusion_matrix': array(\n",
    "          [[213,  67],\n",
    "           [ 80, 200]])}\n",
    "```\n",
    "With reasoning it takes 5 mins with improvement in performance \n",
    "\n",
    "metrics:\n",
    "```json\n",
    "    {'accuracy': 0.7857142857142857,\n",
    "    'precision': 0.7758620689655172,\n",
    "    'recall': 0.8035714285714286,\n",
    "    'f1_score': 0.7894736842105263,\n",
    "    'confusion_matrix': array([\n",
    "            [225,  55],\n",
    "            [ 65, 215]])}\n",
    "```"
   ]
  },
  {
   "cell_type": "code",
   "execution_count": null,
   "metadata": {},
   "outputs": [],
   "source": []
  }
 ],
 "metadata": {
  "kernelspec": {
   "display_name": ".venv",
   "language": "python",
   "name": "python3"
  },
  "language_info": {
   "codemirror_mode": {
    "name": "ipython",
    "version": 3
   },
   "file_extension": ".py",
   "mimetype": "text/x-python",
   "name": "python",
   "nbconvert_exporter": "python",
   "pygments_lexer": "ipython3",
   "version": "3.11.11"
  }
 },
 "nbformat": 4,
 "nbformat_minor": 2
}
