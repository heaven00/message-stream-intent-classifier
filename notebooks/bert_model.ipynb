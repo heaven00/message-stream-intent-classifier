{
 "cells": [
  {
   "cell_type": "code",
   "execution_count": 1,
   "metadata": {},
   "outputs": [
    {
     "name": "stderr",
     "output_type": "stream",
     "text": [
      "Some weights of BertForSequenceClassification were not initialized from the model checkpoint at bert-base-uncased and are newly initialized: ['classifier.bias', 'classifier.weight']\n",
      "You should probably TRAIN this model on a down-stream task to be able to use it for predictions and inference.\n"
     ]
    }
   ],
   "source": [
    "from datasets import Dataset, DatasetDict\n",
    "import pandas as pd\n",
    "import torch\n",
    "import re\n",
    "from transformers import BertForSequenceClassification, BertTokenizer\n",
    "\n",
    "datasets = DatasetDict({\n",
    "    'train': Dataset.from_pandas(pd.read_csv('../data/train.csv')),\n",
    "    'eval': Dataset.from_pandas(pd.read_csv('../data/eval.csv')),\n",
    "    'test': Dataset.from_pandas(pd.read_csv('../data/test.csv'))\n",
    "})\n",
    "\n",
    "\n",
    "\n",
    "model_name = \"bert-base-uncased\"\n",
    "tokenizer = BertTokenizer.from_pretrained(model_name)\n",
    "model = BertForSequenceClassification.from_pretrained(model_name, num_labels=2)\n",
    "\n"
   ]
  },
  {
   "cell_type": "code",
   "execution_count": 2,
   "metadata": {},
   "outputs": [
    {
     "data": {
      "application/vnd.jupyter.widget-view+json": {
       "model_id": "6d95d2a8a9154dc6bcfb0b78618d044b",
       "version_major": 2,
       "version_minor": 0
      },
      "text/plain": [
       "Map:   0%|          | 0/3924 [00:00<?, ? examples/s]"
      ]
     },
     "metadata": {},
     "output_type": "display_data"
    },
    {
     "data": {
      "application/vnd.jupyter.widget-view+json": {
       "model_id": "800d4bdfcf05454ba3615abb6680a0bc",
       "version_major": 2,
       "version_minor": 0
      },
      "text/plain": [
       "Map:   0%|          | 0/560 [00:00<?, ? examples/s]"
      ]
     },
     "metadata": {},
     "output_type": "display_data"
    },
    {
     "data": {
      "application/vnd.jupyter.widget-view+json": {
       "model_id": "b49a1a0733a74470b92e6ad1c0a03206",
       "version_major": 2,
       "version_minor": 0
      },
      "text/plain": [
       "Map:   0%|          | 0/1120 [00:00<?, ? examples/s]"
      ]
     },
     "metadata": {},
     "output_type": "display_data"
    },
    {
     "data": {
      "application/vnd.jupyter.widget-view+json": {
       "model_id": "4ff70e6e4f794064b6ec5099d78851bd",
       "version_major": 2,
       "version_minor": 0
      },
      "text/plain": [
       "Map:   0%|          | 0/3924 [00:00<?, ? examples/s]"
      ]
     },
     "metadata": {},
     "output_type": "display_data"
    },
    {
     "data": {
      "application/vnd.jupyter.widget-view+json": {
       "model_id": "61cf59bb224740179e474913e3ffc280",
       "version_major": 2,
       "version_minor": 0
      },
      "text/plain": [
       "Map:   0%|          | 0/560 [00:00<?, ? examples/s]"
      ]
     },
     "metadata": {},
     "output_type": "display_data"
    },
    {
     "data": {
      "application/vnd.jupyter.widget-view+json": {
       "model_id": "1e28cac7962840d5a815ff45b1c0c80a",
       "version_major": 2,
       "version_minor": 0
      },
      "text/plain": [
       "Map:   0%|          | 0/1120 [00:00<?, ? examples/s]"
      ]
     },
     "metadata": {},
     "output_type": "display_data"
    },
    {
     "data": {
      "application/vnd.jupyter.widget-view+json": {
       "model_id": "1e4a0ed372314461bc418e62145d90c0",
       "version_major": 2,
       "version_minor": 0
      },
      "text/plain": [
       "Map:   0%|          | 0/3924 [00:00<?, ? examples/s]"
      ]
     },
     "metadata": {},
     "output_type": "display_data"
    },
    {
     "data": {
      "application/vnd.jupyter.widget-view+json": {
       "model_id": "3b74443bd5a34a789c53fe91cbe81069",
       "version_major": 2,
       "version_minor": 0
      },
      "text/plain": [
       "Map:   0%|          | 0/560 [00:00<?, ? examples/s]"
      ]
     },
     "metadata": {},
     "output_type": "display_data"
    },
    {
     "data": {
      "application/vnd.jupyter.widget-view+json": {
       "model_id": "88d1b529508e438ba906dff76f199e69",
       "version_major": 2,
       "version_minor": 0
      },
      "text/plain": [
       "Map:   0%|          | 0/1120 [00:00<?, ? examples/s]"
      ]
     },
     "metadata": {},
     "output_type": "display_data"
    }
   ],
   "source": [
    "def remove_urls(text):\n",
    "    \"\"\"Remove URLs from a text string.\"\"\"\n",
    "    url_pattern = r'http\\S+|www\\.\\S+'\n",
    "    return re.sub(url_pattern, '<link>', text)\n",
    "\n",
    "def remove_mentions(text):\n",
    "    \"\"\"Remove user mentions (e.g., @username) and channels (e.g., #channel).\"\"\"\n",
    "    mention_pattern = r'[@#]\\w+'\n",
    "    return re.sub(mention_pattern, '<user>', text)\n",
    "\n",
    "def remove_special_chars(text):\n",
    "    \"\"\"Remove special characters except basic punctuation.\"\"\"\n",
    "    return re.sub(r'[^\\w\\s.,!?]', '', text)\n",
    "\n",
    "def clean_text(row):\n",
    "    \"\"\"\n",
    "    Clean the input text by:\n",
    "      - Removing URLs.\n",
    "      - Removing mentions.\n",
    "      - Lowercasing text.\n",
    "      - Removing unwanted special characters.\n",
    "      - Trimming extra spaces.\n",
    "    \"\"\"\n",
    "    text = row['message']\n",
    "    text = remove_urls(text)\n",
    "    text = remove_mentions(text)\n",
    "    text = text.lower()\n",
    "    text = remove_special_chars(text)\n",
    "    row['cleaned_message'] = text \n",
    "    return row\n",
    "\n",
    "\n",
    "def generate_tokenized_text(row):\n",
    "    output = tokenizer(row['message'], truncation=True, padding=\"max_length\", max_length=128)\n",
    "    row['attention_mask'] = output['attention_mask']\n",
    "    row['input_ids'] = output['input_ids']\n",
    "    return row\n",
    "\n",
    "def label_mapping(row):\n",
    "    row['labels'] = 0 if row['calendar_event'] == False else 1\n",
    "    return row\n",
    "\n",
    "\n",
    "datasets = datasets.map(clean_text)\n",
    "datasets = datasets.map(generate_tokenized_text)\n",
    "datasets = datasets.map(label_mapping)"
   ]
  },
  {
   "cell_type": "code",
   "execution_count": null,
   "metadata": {},
   "outputs": [],
   "source": [
    "from transformers import TrainingArguments, Trainer\n",
    "from sklearn.metrics import accuracy_score, precision_score, recall_score, f1_score\n",
    "\n",
    "def compute_metrics(eval_pred):\n",
    "    predictions, labels = eval_pred\n",
    "    preds = predictions.argmax(axis=1)\n",
    "    \n",
    "    accuracy = accuracy_score(labels, preds)\n",
    "    precision = precision_score(labels, preds, average='binary')\n",
    "    recall = recall_score(labels, preds, average='binary')\n",
    "    f1 = f1_score(labels, preds, average='binary')\n",
    "    \n",
    "    return {\n",
    "        \"accuracy\": accuracy,\n",
    "        \"precision\": precision,\n",
    "        \"recall\": recall,\n",
    "        \"f1\": f1\n",
    "    }\n",
    "\n",
    "training_args = TrainingArguments(\n",
    "    output_dir='./results',\n",
    "    num_train_epochs=3,\n",
    "    per_device_train_batch_size=16,\n",
    "    per_device_eval_batch_size=8,\n",
    "    learning_rate=2e-5,\n",
    "    weight_decay=0.01,\n",
    "    eval_strategy=\"steps\",\n",
    "    logging_steps=5,\n",
    "    save_steps=10,\n",
    "    max_steps=50,\n",
    "    load_best_model_at_end=True,\n",
    "    report_to=\"none\",\n",
    "    remove_unused_columns=True\n",
    ")\n",
    "\n",
    "trainer = Trainer(\n",
    "    model=model,\n",
    "    args=training_args,\n",
    "    train_dataset=datasets['train'],\n",
    "    eval_dataset=datasets['eval'],\n",
    "    compute_metrics=compute_metrics\n",
    ")"
   ]
  },
  {
   "cell_type": "code",
   "execution_count": 4,
   "metadata": {},
   "outputs": [
    {
     "data": {
      "text/html": [
       "\n",
       "    <div>\n",
       "      \n",
       "      <progress value='50' max='50' style='width:300px; height:20px; vertical-align: middle;'></progress>\n",
       "      [50/50 00:30, Epoch 0/1]\n",
       "    </div>\n",
       "    <table border=\"1\" class=\"dataframe\">\n",
       "  <thead>\n",
       " <tr style=\"text-align: left;\">\n",
       "      <th>Step</th>\n",
       "      <th>Training Loss</th>\n",
       "      <th>Validation Loss</th>\n",
       "      <th>Accuracy</th>\n",
       "      <th>Precision</th>\n",
       "      <th>Recall</th>\n",
       "      <th>F1</th>\n",
       "    </tr>\n",
       "  </thead>\n",
       "  <tbody>\n",
       "    <tr>\n",
       "      <td>5</td>\n",
       "      <td>0.652100</td>\n",
       "      <td>0.634056</td>\n",
       "      <td>0.617857</td>\n",
       "      <td>1.000000</td>\n",
       "      <td>0.235714</td>\n",
       "      <td>0.381503</td>\n",
       "    </tr>\n",
       "    <tr>\n",
       "      <td>10</td>\n",
       "      <td>0.622800</td>\n",
       "      <td>0.527139</td>\n",
       "      <td>0.926786</td>\n",
       "      <td>0.979920</td>\n",
       "      <td>0.871429</td>\n",
       "      <td>0.922495</td>\n",
       "    </tr>\n",
       "    <tr>\n",
       "      <td>15</td>\n",
       "      <td>0.493700</td>\n",
       "      <td>0.464321</td>\n",
       "      <td>0.869643</td>\n",
       "      <td>0.808955</td>\n",
       "      <td>0.967857</td>\n",
       "      <td>0.881301</td>\n",
       "    </tr>\n",
       "    <tr>\n",
       "      <td>20</td>\n",
       "      <td>0.498600</td>\n",
       "      <td>0.433345</td>\n",
       "      <td>0.875000</td>\n",
       "      <td>0.816265</td>\n",
       "      <td>0.967857</td>\n",
       "      <td>0.885621</td>\n",
       "    </tr>\n",
       "    <tr>\n",
       "      <td>25</td>\n",
       "      <td>0.387300</td>\n",
       "      <td>0.350406</td>\n",
       "      <td>0.935714</td>\n",
       "      <td>0.893548</td>\n",
       "      <td>0.989286</td>\n",
       "      <td>0.938983</td>\n",
       "    </tr>\n",
       "    <tr>\n",
       "      <td>30</td>\n",
       "      <td>0.346000</td>\n",
       "      <td>0.306786</td>\n",
       "      <td>0.964286</td>\n",
       "      <td>0.942177</td>\n",
       "      <td>0.989286</td>\n",
       "      <td>0.965157</td>\n",
       "    </tr>\n",
       "    <tr>\n",
       "      <td>35</td>\n",
       "      <td>0.297400</td>\n",
       "      <td>0.275589</td>\n",
       "      <td>0.966071</td>\n",
       "      <td>0.945392</td>\n",
       "      <td>0.989286</td>\n",
       "      <td>0.966841</td>\n",
       "    </tr>\n",
       "    <tr>\n",
       "      <td>40</td>\n",
       "      <td>0.267100</td>\n",
       "      <td>0.251781</td>\n",
       "      <td>0.971429</td>\n",
       "      <td>0.955172</td>\n",
       "      <td>0.989286</td>\n",
       "      <td>0.971930</td>\n",
       "    </tr>\n",
       "    <tr>\n",
       "      <td>45</td>\n",
       "      <td>0.266400</td>\n",
       "      <td>0.240891</td>\n",
       "      <td>0.967857</td>\n",
       "      <td>0.948630</td>\n",
       "      <td>0.989286</td>\n",
       "      <td>0.968531</td>\n",
       "    </tr>\n",
       "    <tr>\n",
       "      <td>50</td>\n",
       "      <td>0.232500</td>\n",
       "      <td>0.237283</td>\n",
       "      <td>0.967857</td>\n",
       "      <td>0.948630</td>\n",
       "      <td>0.989286</td>\n",
       "      <td>0.968531</td>\n",
       "    </tr>\n",
       "  </tbody>\n",
       "</table><p>"
      ],
      "text/plain": [
       "<IPython.core.display.HTML object>"
      ]
     },
     "metadata": {},
     "output_type": "display_data"
    },
    {
     "data": {
      "text/plain": [
       "TrainOutput(global_step=50, training_loss=0.40639047384262084, metrics={'train_runtime': 30.3471, 'train_samples_per_second': 26.362, 'train_steps_per_second': 1.648, 'total_flos': 52622211072000.0, 'train_loss': 0.40639047384262084, 'epoch': 0.2032520325203252})"
      ]
     },
     "execution_count": 4,
     "metadata": {},
     "output_type": "execute_result"
    }
   ],
   "source": [
    "trainer.train()"
   ]
  },
  {
   "cell_type": "code",
   "execution_count": 8,
   "metadata": {},
   "outputs": [
    {
     "data": {
      "text/html": [],
      "text/plain": [
       "<IPython.core.display.HTML object>"
      ]
     },
     "metadata": {},
     "output_type": "display_data"
    },
    {
     "data": {
      "text/plain": [
       "PredictionOutput(predictions=array([[-0.97039884,  1.3453104 ],\n",
       "       [-1.1152496 ,  1.3940566 ],\n",
       "       [-0.5414445 ,  0.8503644 ],\n",
       "       ...,\n",
       "       [ 0.6406925 , -0.7862517 ],\n",
       "       [ 0.54445815, -0.2564761 ],\n",
       "       [ 0.5858267 , -0.75551957]], shape=(1120, 2), dtype=float32), label_ids=array([1, 1, 1, ..., 0, 0, 0], shape=(1120,)), metrics={'test_loss': 0.23213626444339752, 'test_accuracy': 0.9714285714285714, 'test_precision': 0.9474576271186441, 'test_recall': 0.9982142857142857, 'test_f1': 0.9721739130434782, 'test_runtime': 2.0204, 'test_samples_per_second': 554.338, 'test_steps_per_second': 69.292})"
      ]
     },
     "execution_count": 8,
     "metadata": {},
     "output_type": "execute_result"
    }
   ],
   "source": [
    "output = trainer.predict(datasets['test'])\n",
    "output"
   ]
  },
  {
   "cell_type": "code",
   "execution_count": 9,
   "metadata": {},
   "outputs": [
    {
     "data": {
      "text/plain": [
       "{'test_loss': 0.23213626444339752,\n",
       " 'test_accuracy': 0.9714285714285714,\n",
       " 'test_precision': 0.9474576271186441,\n",
       " 'test_recall': 0.9982142857142857,\n",
       " 'test_f1': 0.9721739130434782,\n",
       " 'test_runtime': 2.0204,\n",
       " 'test_samples_per_second': 554.338,\n",
       " 'test_steps_per_second': 69.292}"
      ]
     },
     "execution_count": 9,
     "metadata": {},
     "output_type": "execute_result"
    }
   ],
   "source": [
    "output.metrics"
   ]
  },
  {
   "cell_type": "code",
   "execution_count": 10,
   "metadata": {},
   "outputs": [],
   "source": [
    "trainer.save_model('./bert_classifier_v1')"
   ]
  },
  {
   "cell_type": "code",
   "execution_count": null,
   "metadata": {},
   "outputs": [],
   "source": []
  }
 ],
 "metadata": {
  "kernelspec": {
   "display_name": ".venv",
   "language": "python",
   "name": "python3"
  },
  "language_info": {
   "codemirror_mode": {
    "name": "ipython",
    "version": 3
   },
   "file_extension": ".py",
   "mimetype": "text/x-python",
   "name": "python",
   "nbconvert_exporter": "python",
   "pygments_lexer": "ipython3",
   "version": "3.11.11"
  }
 },
 "nbformat": 4,
 "nbformat_minor": 2
}
