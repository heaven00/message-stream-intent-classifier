{
 "cells": [
  {
   "cell_type": "code",
   "execution_count": 18,
   "metadata": {},
   "outputs": [
    {
     "data": {
      "text/plain": [
       "[{'filename': 'chat_142.json',\n",
       "  'message': \"Hey everyone! We've got a bug in our production environment that's causing some downtime.\",\n",
       "  'user': 'alice'},\n",
       " {'filename': 'chat_142.json',\n",
       "  'message': 'What kind of bug are we talking about here?',\n",
       "  'user': 'bob'},\n",
       " {'filename': 'chat_142.json',\n",
       "  'message': \"It seems to be an issue with the user authentication module. Users can't log in after the latest update.\",\n",
       "  'user': 'charlie'},\n",
       " {'filename': 'chat_142.json',\n",
       "  'message': \"Right, and it's affecting a lot of our users. We need to fix this ASAP.\",\n",
       "  'user': 'alice'},\n",
       " {'filename': 'chat_142.json',\n",
       "  'message': \"I can look into the logs to see what's going wrong with authentication.\",\n",
       "  'user': 'dave'}]"
      ]
     },
     "execution_count": 18,
     "metadata": {},
     "output_type": "execute_result"
    }
   ],
   "source": [
    "import os\n",
    "import json\n",
    "import pandas as pd\n",
    "\n",
    "def load_synthetic_data(folder_path: str):\n",
    "    data = []\n",
    "    for filename in os.listdir(folder_path):\n",
    "        if filename.endswith('.json'):\n",
    "            file_path = os.path.join(folder_path, filename)\n",
    "            with open(file_path, 'r') as file:\n",
    "                chats = json.load(file)[\"messages\"]\n",
    "                for chat in chats:\n",
    "                    data.append({\"filename\": filename, \"message\": chat['message'], \"user\": chat['user']})\n",
    "    return data\n",
    "\n",
    "\n",
    "synthetic_data = load_synthetic_data(\"../synthetic_data/\")\n",
    "synthetic_data[:5]"
   ]
  },
  {
   "cell_type": "code",
   "execution_count": 19,
   "metadata": {},
   "outputs": [
    {
     "data": {
      "text/plain": [
       "count    360.000000\n",
       "mean       7.786111\n",
       "std        2.657061\n",
       "min        2.000000\n",
       "25%        6.000000\n",
       "50%        7.000000\n",
       "75%        9.000000\n",
       "max       21.000000\n",
       "Name: count, dtype: float64"
      ]
     },
     "execution_count": 19,
     "metadata": {},
     "output_type": "execute_result"
    }
   ],
   "source": [
    "pd.DataFrame(synthetic_data)['filename'].value_counts().describe()"
   ]
  },
  {
   "cell_type": "markdown",
   "metadata": {},
   "source": [
    "There is a bit of variety in the number of messages, LLMs as usual don't follow number commands that consistently and I didn't really put any validation loop around it, so let's take that into account while generating the split of the data\n",
    "\n",
    "next step: add noise to the dataset by adding multiple discussions happening at the same time and then split into train/test set. "
   ]
  },
  {
   "cell_type": "code",
   "execution_count": 10,
   "metadata": {},
   "outputs": [
    {
     "name": "stdout",
     "output_type": "stream",
     "text": [
      "--2025-02-26 09:26:41--  https://raw.githubusercontent.com/jkkummerfeld/irc-disentanglement/refs/heads/master/data/train/2005-02-06.train-c.raw.txt\n",
      "Resolving raw.githubusercontent.com (raw.githubusercontent.com)... 2606:50c0:8002::154, 2606:50c0:8001::154, 2606:50c0:8003::154, ...\n",
      "Connecting to raw.githubusercontent.com (raw.githubusercontent.com)|2606:50c0:8002::154|:443... connected.\n",
      "HTTP request sent, awaiting response... 200 OK\n",
      "Length: 93553 (91K) [text/plain]\n",
      "Saving to: ‘../data/ubuntu_irc_data_raw.txt’\n",
      "\n",
      "../data/ubuntu_irc_ 100%[===================>]  91.36K  --.-KB/s    in 0.02s   \n",
      "\n",
      "2025-02-26 09:26:41 (3.78 MB/s) - ‘../data/ubuntu_irc_data_raw.txt’ saved [93553/93553]\n",
      "\n"
     ]
    }
   ],
   "source": [
    "!wget -O ../data/ubuntu_irc_data_raw.txt \"https://raw.githubusercontent.com/jkkummerfeld/irc-disentanglement/refs/heads/master/data/train/2005-02-06.train-c.raw.txt\" "
   ]
  },
  {
   "cell_type": "code",
   "execution_count": null,
   "metadata": {},
   "outputs": [
    {
     "data": {
      "text/plain": [
       "[\"<jdub> usual: yes, because that's safe\",\n",
       " '<usual> jdub, I see',\n",
       " '<usual> jdub, makes sense',\n",
       " '<hams> do i make the linux softlink point to linux-headers-2.6.8.1-4 or linux-hedaers-2.6.8.1-amd64-k8?',\n",
       " '<knghtbrd> ahhh, I had forgotten what a joy application keys are...',\n",
       " '<Adrenal> eheh',\n",
       " \"<drspin> eyequeue: and a good philosophy it is :) but, taking iTunes for example, what's wrong with being able to do everything with my music (organize, burn, save, share, find, listen, etc...) all in once place?\",\n",
       " '<usual> jdub, do you or have you used beagle?',\n",
       " '<eyequeue> drspin: never seen it, sorry (no apple stuff in years)',\n",
       " '<knghtbrd> and the joy that is having your terminal program claim to be a given terminal, but send the wrong keystrokes for that terminfo  ;)']"
      ]
     },
     "execution_count": 12,
     "metadata": {},
     "output_type": "execute_result"
    }
   ],
   "source": [
    "def get_irc_messages(file_path:str) -> list[str]:\n",
    "    irc_messages = []\n",
    "    with open (file_path, 'r') as file:\n",
    "        for line in file.readlines():\n",
    "            if not line.startswith('=='):\n",
    "                # remove the timestamps\n",
    "                irc_messages.append(line.split(']')[-1].strip())\n",
    "    return irc_messages\n",
    "\n",
    "\n",
    "irc_messages = get_irc_messages(\"../data/ubuntu_irc_data_raw.txt\")\n",
    "irc_messages[:10]"
   ]
  },
  {
   "cell_type": "code",
   "execution_count": 28,
   "metadata": {},
   "outputs": [
    {
     "data": {
      "text/plain": [
       "(1306,\n",
       " [{'user': 'jdub', 'message': \"usual: yes, because that's safe\"},\n",
       "  {'user': 'usual', 'message': 'jdub, I see'},\n",
       "  {'user': 'usual', 'message': 'jdub, makes sense'},\n",
       "  {'user': 'hams',\n",
       "   'message': 'do i make the linux softlink point to linux-headers-2.6.8.1-4 or linux-hedaers-2.6.8.1-amd64-k8?'},\n",
       "  {'user': 'knghtbrd',\n",
       "   'message': 'ahhh, I had forgotten what a joy application keys are...'}])"
      ]
     },
     "execution_count": 28,
     "metadata": {},
     "output_type": "execute_result"
    }
   ],
   "source": [
    "import re\n",
    "\n",
    "def chat_message_structure_from_irc_messages(irc_messages):\n",
    "    parsed = []\n",
    "    for entry in irc_messages:\n",
    "        # Match the pattern: <username> followed by the message text\n",
    "        match = re.match(r'<([^>]+)>\\s*(.*)', entry)\n",
    "        if match:\n",
    "            username = match.group(1)\n",
    "            message = match.group(2)\n",
    "            parsed.append({'user': username, 'message': message})\n",
    "    return parsed\n",
    "\n",
    "noise_messages = chat_message_structure_from_irc_messages(irc_messages)\n",
    "len(noise_messages), noise_messages[:5]"
   ]
  },
  {
   "cell_type": "code",
   "execution_count": 40,
   "metadata": {},
   "outputs": [],
   "source": [
    "synth_df = pd.DataFrame(synthetic_data)\n",
    "synth_df['calendar_event'] = True\n",
    "noisy_df = pd.DataFrame(noise_messages)\n",
    "noisy_df['calendar_event'] = False\n",
    "\n",
    "def split_data(synth_df, noisy_df, train_size=0.7, test_size=0.2, validation_size=0.1):\n",
    "\n",
    "    def custom_sample(synth_df, noisy_df, count):\n",
    "        sample_df = synth_df.sample(n=count, random_state=42)\n",
    "        sample_noisy_df = noisy_df.sample(n=count, random_state=42, replace=True)\n",
    "        synth_df = synth_df.drop(sample_df.index)\n",
    "        return pd.concat([sample_df, sample_noisy_df], ignore_index=True), synth_df, noisy_df\n",
    "\n",
    "\n",
    "    train_count = int(len(synth_df) * train_size)\n",
    "    test_count = int(len(synth_df) * test_size)\n",
    "    validation_count = int(len(synth_df) * validation_size)\n",
    "\n",
    "    train, synth_df, noisy_df = custom_sample(synth_df, noisy_df, train_count)\n",
    "    test, synth_df, noisy_df = custom_sample(synth_df, noisy_df, test_count)\n",
    "    validation, synth_df, noisy_df = custom_sample(synth_df, noisy_df, validation_count)\n",
    "    \n",
    "    return train, test, validation\n",
    "\n",
    "\n",
    "train, test, eval = split_data(synth_df, noisy_df)"
   ]
  },
  {
   "cell_type": "code",
   "execution_count": 57,
   "metadata": {},
   "outputs": [
    {
     "data": {
      "text/html": [
       "<div>\n",
       "<style scoped>\n",
       "    .dataframe tbody tr th:only-of-type {\n",
       "        vertical-align: middle;\n",
       "    }\n",
       "\n",
       "    .dataframe tbody tr th {\n",
       "        vertical-align: top;\n",
       "    }\n",
       "\n",
       "    .dataframe thead th {\n",
       "        text-align: right;\n",
       "    }\n",
       "</style>\n",
       "<table border=\"1\" class=\"dataframe\">\n",
       "  <thead>\n",
       "    <tr style=\"text-align: right;\">\n",
       "      <th></th>\n",
       "      <th>filename</th>\n",
       "      <th>message</th>\n",
       "      <th>user</th>\n",
       "      <th>calendar_event</th>\n",
       "    </tr>\n",
       "  </thead>\n",
       "  <tbody>\n",
       "    <tr>\n",
       "      <th>0</th>\n",
       "      <td>chat_239.json</td>\n",
       "      <td>Maybe next week? We're a bit swamped this week...</td>\n",
       "      <td>carol</td>\n",
       "      <td>True</td>\n",
       "    </tr>\n",
       "    <tr>\n",
       "      <th>1</th>\n",
       "      <td>chat_82.json</td>\n",
       "      <td>Hey alice, maybe there are some conflicts in t...</td>\n",
       "      <td>carol</td>\n",
       "      <td>True</td>\n",
       "    </tr>\n",
       "    <tr>\n",
       "      <th>2</th>\n",
       "      <td>chat_32.json</td>\n",
       "      <td>I appreciate the suggestions! I'll try updatin...</td>\n",
       "      <td>hannah123</td>\n",
       "      <td>True</td>\n",
       "    </tr>\n",
       "    <tr>\n",
       "      <th>3</th>\n",
       "      <td>chat_57.json</td>\n",
       "      <td>Hi alice, I think monday could work for me if ...</td>\n",
       "      <td>bob</td>\n",
       "      <td>True</td>\n",
       "    </tr>\n",
       "    <tr>\n",
       "      <th>4</th>\n",
       "      <td>chat_32.json</td>\n",
       "      <td>Thanks sarah_coder! I did try that, but I'm ha...</td>\n",
       "      <td>hannah123</td>\n",
       "      <td>True</td>\n",
       "    </tr>\n",
       "  </tbody>\n",
       "</table>\n",
       "</div>"
      ],
      "text/plain": [
       "        filename                                            message  \\\n",
       "0  chat_239.json  Maybe next week? We're a bit swamped this week...   \n",
       "1   chat_82.json  Hey alice, maybe there are some conflicts in t...   \n",
       "2   chat_32.json  I appreciate the suggestions! I'll try updatin...   \n",
       "3   chat_57.json  Hi alice, I think monday could work for me if ...   \n",
       "4   chat_32.json  Thanks sarah_coder! I did try that, but I'm ha...   \n",
       "\n",
       "        user  calendar_event  \n",
       "0      carol            True  \n",
       "1      carol            True  \n",
       "2  hannah123            True  \n",
       "3        bob            True  \n",
       "4  hannah123            True  "
      ]
     },
     "execution_count": 57,
     "metadata": {},
     "output_type": "execute_result"
    }
   ],
   "source": [
    "assert set(train.columns) == set(test.columns)\n",
    "assert set(test.columns) == set(eval.columns)\n",
    "\n",
    "train.head()"
   ]
  },
  {
   "cell_type": "code",
   "execution_count": 58,
   "metadata": {},
   "outputs": [
    {
     "data": {
      "text/plain": [
       "(calendar_event\n",
       " True     1962\n",
       " False    1962\n",
       " Name: count, dtype: int64,\n",
       " calendar_event\n",
       " True     560\n",
       " False    560\n",
       " Name: count, dtype: int64,\n",
       " calendar_event\n",
       " True     280\n",
       " False    280\n",
       " Name: count, dtype: int64)"
      ]
     },
     "execution_count": 58,
     "metadata": {},
     "output_type": "execute_result"
    }
   ],
   "source": [
    "train.calendar_event.value_counts(), test.calendar_event.value_counts(), eval.calendar_event.value_counts()"
   ]
  },
  {
   "cell_type": "code",
   "execution_count": 60,
   "metadata": {},
   "outputs": [],
   "source": [
    "train.to_csv('../data/train.csv', index=False)\n",
    "test.to_csv('../data/test.csv', index=False)\n",
    "eval.to_csv('../data/eval.csv', index=False)"
   ]
  }
 ],
 "metadata": {
  "kernelspec": {
   "display_name": ".venv",
   "language": "python",
   "name": "python3"
  },
  "language_info": {
   "codemirror_mode": {
    "name": "ipython",
    "version": 3
   },
   "file_extension": ".py",
   "mimetype": "text/x-python",
   "name": "python",
   "nbconvert_exporter": "python",
   "pygments_lexer": "ipython3",
   "version": "3.11.11"
  }
 },
 "nbformat": 4,
 "nbformat_minor": 2
}
